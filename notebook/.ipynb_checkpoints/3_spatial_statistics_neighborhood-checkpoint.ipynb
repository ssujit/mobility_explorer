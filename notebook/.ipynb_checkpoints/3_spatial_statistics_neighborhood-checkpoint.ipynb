{
 "cells": [
  {
   "cell_type": "code",
   "execution_count": 1,
   "metadata": {
    "collapsed": false
   },
   "outputs": [
    {
     "ename": "ImportError",
     "evalue": "No module named 'geopandas'",
     "output_type": "error",
     "traceback": [
      "\u001b[1;31m---------------------------------------------------------------------------\u001b[0m",
      "\u001b[1;31mImportError\u001b[0m                               Traceback (most recent call last)",
      "\u001b[1;32m<ipython-input-1-527f00b53764>\u001b[0m in \u001b[0;36m<module>\u001b[1;34m()\u001b[0m\n\u001b[1;32m----> 1\u001b[1;33m \u001b[1;32mimport\u001b[0m \u001b[0mgeopandas\u001b[0m \u001b[1;32mas\u001b[0m \u001b[0mgpd\u001b[0m\u001b[1;33m\u001b[0m\u001b[0m\n\u001b[0m\u001b[0;32m      2\u001b[0m \u001b[1;32mimport\u001b[0m \u001b[0mmatplotlib\u001b[0m\u001b[1;33m.\u001b[0m\u001b[0mpyplot\u001b[0m \u001b[1;32mas\u001b[0m \u001b[0mplt\u001b[0m  \u001b[1;31m# Graphics\u001b[0m\u001b[1;33m\u001b[0m\u001b[0m\n\u001b[0;32m      3\u001b[0m \u001b[1;32mfrom\u001b[0m \u001b[0mmatplotlib\u001b[0m \u001b[1;32mimport\u001b[0m \u001b[0mcolors\u001b[0m\u001b[1;33m\u001b[0m\u001b[0m\n\u001b[0;32m      4\u001b[0m \u001b[1;32mimport\u001b[0m \u001b[0mseaborn\u001b[0m  \u001b[1;31m# Graphics\u001b[0m\u001b[1;33m\u001b[0m\u001b[0m\n\u001b[0;32m      5\u001b[0m \u001b[1;32mimport\u001b[0m \u001b[0mgeopandas\u001b[0m  \u001b[1;31m# Spatial data manipulation\u001b[0m\u001b[1;33m\u001b[0m\u001b[0m\n",
      "\u001b[1;31mImportError\u001b[0m: No module named 'geopandas'"
     ]
    }
   ],
   "source": [
    "import geopandas as gpd\n",
    "import matplotlib.pyplot as plt  # Graphics\n",
    "from matplotlib import colors\n",
    "import seaborn  # Graphics\n",
    "import geopandas  # Spatial data manipulation\n",
    "import pandas  # Tabular data manipulation\n",
    "import rioxarray  # Surface data manipulation\n",
    "import xarray  # Surface data manipulation\n",
    "from pysal.explore import esda  # Exploratory Spatial analytics\n",
    "from pysal.lib import weights  # Spatial weights\n",
    "import contextily  # Background tiles\n",
    "import warnings\n",
    "warnings.filterwarnings(\"ignore\")"
   ]
  },
  {
   "cell_type": "code",
   "execution_count": null,
   "metadata": {
    "collapsed": true
   },
   "outputs": [],
   "source": [
    "url = url = 'https://raw.github.com/ssujit/move_sustainable/main/data/'\n",
    "\n",
    "# variable declaration\n",
    "wkam = 'wk_am_hamburg.gpkg' # wk_am: weekdays peak-traffic morning hours (6:00-8:59) \n",
    "\n",
    "#read the files\n",
    "wk_am = gpd.read_file(f'{url}{wkam}')"
   ]
  },
  {
   "cell_type": "code",
   "execution_count": null,
   "metadata": {
    "collapsed": true
   },
   "outputs": [],
   "source": [
    "wk_am.head()"
   ]
  },
  {
   "cell_type": "code",
   "execution_count": null,
   "metadata": {
    "collapsed": true
   },
   "outputs": [],
   "source": [
    "import numpy as np\n",
    "wk_am['fi_sqrt'] = np.sqrt(wk_am['fi'])"
   ]
  },
  {
   "cell_type": "code",
   "execution_count": null,
   "metadata": {
    "collapsed": true
   },
   "outputs": [],
   "source": [
    "wk_am['fi_2ndsqrt'] = np.sqrt(wk_am['fi_sqrt'])"
   ]
  },
  {
   "cell_type": "code",
   "execution_count": null,
   "metadata": {
    "collapsed": true
   },
   "outputs": [],
   "source": [
    "wk_am.head()"
   ]
  },
  {
   "cell_type": "code",
   "execution_count": null,
   "metadata": {
    "collapsed": true
   },
   "outputs": [],
   "source": [
    "seaborn.distplot(wk_am['fi_2ndsqrt'])"
   ]
  },
  {
   "cell_type": "code",
   "execution_count": null,
   "metadata": {
    "collapsed": true
   },
   "outputs": [],
   "source": [
    "wk_am.explore()"
   ]
  },
  {
   "cell_type": "code",
   "execution_count": null,
   "metadata": {
    "collapsed": true
   },
   "outputs": [],
   "source": [
    "# Set up figure and a single axis\n",
    "f, ax = plt.subplots(1, figsize=(9, 9))\n",
    "# Build choropleth\n",
    "wk_am.plot(\n",
    "    column=\"fi_2ndsqrt\",\n",
    "    cmap=\"viridis\",\n",
    "    scheme=\"quantiles\",\n",
    "    k=5,\n",
    "    edgecolor=\"white\",\n",
    "    linewidth=0.0,\n",
    "    alpha=0.75,\n",
    "    legend=True,\n",
    "    legend_kwds=dict(loc=2),\n",
    "    ax=ax,\n",
    ")\n",
    "# Add basemap\n",
    "contextily.add_basemap(\n",
    "    ax,\n",
    "    crs=wk_am.crs,\n",
    "    source=contextily.providers.CartoDB.VoyagerNoLabels,\n",
    ")\n",
    "# Remove axes\n",
    "ax.set_axis_off();"
   ]
  },
  {
   "cell_type": "code",
   "execution_count": null,
   "metadata": {
    "collapsed": true
   },
   "outputs": [],
   "source": [
    "# Generate W from the GeoDataFrame\n",
    "w = weights.distance.KNN.from_dataframe(wk_am, k=8)\n",
    "# Row-standardization\n",
    "w.transform = \"R\""
   ]
  },
  {
   "cell_type": "code",
   "execution_count": null,
   "metadata": {
    "collapsed": true
   },
   "outputs": [],
   "source": [
    "wk_am[\"w_fi_2ndsqrt\"] = weights.lag_spatial(w, wk_am['fi_2ndsqrt'])"
   ]
  },
  {
   "cell_type": "code",
   "execution_count": null,
   "metadata": {
    "collapsed": true
   },
   "outputs": [],
   "source": [
    "wk_am[\"fi_2ndsqrt_std\"] = wk_am[\"fi_2ndsqrt\"] - wk_am[\"fi_2ndsqrt\"].mean()\n",
    "wk_am[\"w_fi_2ndsqrt_std\"] = weights.lag_spatial(w, wk_am['fi_2ndsqrt_std'])"
   ]
  },
  {
   "cell_type": "code",
   "execution_count": null,
   "metadata": {
    "collapsed": true
   },
   "outputs": [],
   "source": [
    "# Set up the figure and axis\n",
    "f, ax = plt.subplots(1, figsize=(6, 6))\n",
    "# Plot values\n",
    "seaborn.regplot(\n",
    "    x=\"fi_2ndsqrt_std\", y=\"w_fi_2ndsqrt_std\", data=wk_am, ci=None\n",
    ")\n",
    "plt.show()"
   ]
  },
  {
   "cell_type": "code",
   "execution_count": null,
   "metadata": {
    "collapsed": true
   },
   "outputs": [],
   "source": [
    "# Set up the figure and axis\n",
    "f, ax = plt.subplots(1, figsize=(6, 6))\n",
    "# Plot values\n",
    "seaborn.regplot(\n",
    "    x=\"fi_2ndsqrt_std\", y=\"w_fi_2ndsqrt_std\", data=wk_am, ci=None\n",
    ")\n",
    "# Add vertical and horizontal lines\n",
    "plt.axvline(0, c=\"k\", alpha=0.5)\n",
    "plt.axhline(0, c=\"k\", alpha=0.5)\n",
    "# Add text labels for each quadrant\n",
    "plt.text(0.9, 0.2, \"HH\", fontsize=25, c=\"r\")\n",
    "plt.text(0.75, -0.3, \"HL\", fontsize=25, c=\"r\")\n",
    "plt.text(-0.5, 0.4, \"LH\", fontsize=25, c=\"r\")\n",
    "plt.text(-0.5, -0.3, \"LL\", fontsize=25, c=\"r\")\n",
    "# Display\n",
    "plt.show()"
   ]
  },
  {
   "cell_type": "code",
   "execution_count": null,
   "metadata": {
    "collapsed": true
   },
   "outputs": [],
   "source": [
    "lisa = esda.moran.Moran_Local(wk_am[\"fi_2ndsqrt\"], w)"
   ]
  },
  {
   "cell_type": "code",
   "execution_count": null,
   "metadata": {
    "collapsed": true
   },
   "outputs": [],
   "source": [
    "# Draw KDE line\n",
    "ax = seaborn.kdeplot(lisa.Is)\n",
    "# Add one small bar (rug) for each observation\n",
    "# along horizontal axis\n",
    "seaborn.rugplot(lisa.Is, ax=ax);"
   ]
  },
  {
   "cell_type": "code",
   "execution_count": null,
   "metadata": {
    "collapsed": true
   },
   "outputs": [],
   "source": [
    "from splot import esda as esdaplot"
   ]
  },
  {
   "cell_type": "code",
   "execution_count": null,
   "metadata": {
    "collapsed": true
   },
   "outputs": [],
   "source": [
    "# Set up figure and axes\n",
    "f, axs = plt.subplots(nrows=2, ncols=2, figsize=(12, 12))\n",
    "# Make the axes accessible with single indexing\n",
    "axs = axs.flatten()\n",
    "\n",
    "# Subplot 1 #\n",
    "# Choropleth of local statistics\n",
    "# Grab first axis in the figure\n",
    "ax = axs[0]\n",
    "# Assign new column with local statistics on-the-fly\n",
    "wk_am.assign(\n",
    "    Is=lisa.Is\n",
    "    # Plot choropleth of local statistics\n",
    ").plot(\n",
    "    column=\"Is\",\n",
    "    cmap=\"plasma\",\n",
    "    scheme=\"quantiles\",\n",
    "    k=5,\n",
    "    edgecolor=\"white\",\n",
    "    linewidth=0.1,\n",
    "    alpha=0.75,\n",
    "    legend=True,\n",
    "    ax=ax,\n",
    ")\n",
    "\n",
    "# Subplot 2 #\n",
    "# Quadrant categories\n",
    "# Grab second axis of local statistics\n",
    "ax = axs[1]\n",
    "# Plot Quadrant colors (note to ensure all polygons are assigned a\n",
    "# quadrant, we \"trick\" the function by setting significance level to\n",
    "# 1 so all observations are treated as \"significant\" and thus assigned\n",
    "# a quadrant color\n",
    "esdaplot.lisa_cluster(lisa, wk_am, p=1, ax=ax)\n",
    "\n",
    "# Subplot 3 #\n",
    "# Significance map\n",
    "# Grab third axis of local statistics\n",
    "ax = axs[2]\n",
    "#\n",
    "# Find out significant observations\n",
    "labels = pandas.Series(\n",
    "    1 * (lisa.p_sim < 0.05),  # Assign 1 if significant, 0 otherwise\n",
    "    index=wk_am.index  # Use the index in the original data\n",
    "    # Recode 1 to \"Significant and 0 to \"Non-significant\"\n",
    ").map({1: \"Significant\", 0: \"Non-Significant\"})\n",
    "# Assign labels to `db` on the fly\n",
    "wk_am.assign(\n",
    "    cl=labels\n",
    "    # Plot choropleth of (non-)significant areas\n",
    ").plot(\n",
    "    column=\"cl\",\n",
    "    categorical=True,\n",
    "    k=2,\n",
    "    cmap=\"Paired\",\n",
    "    linewidth=0.1,\n",
    "    edgecolor=\"white\",\n",
    "    legend=True,\n",
    "    ax=ax,\n",
    ")\n",
    "\n",
    "\n",
    "# Subplot 4 #\n",
    "# Cluster map\n",
    "# Grab second axis of local statistics\n",
    "ax = axs[3]\n",
    "# Plot Quadrant colors In this case, we use a 5% significance\n",
    "# level to select polygons as part of statistically significant\n",
    "# clusters\n",
    "esdaplot.lisa_cluster(lisa, wk_am, p=0.05, ax=ax)\n",
    "\n",
    "# Figure styling #\n",
    "# Set title to each subplot\n",
    "for i, ax in enumerate(axs.flatten()):\n",
    "    ax.set_axis_off()\n",
    "    ax.set_title(\n",
    "        [\n",
    "            \"Local Statistics\",\n",
    "            \"Scatterplot Quadrant\",\n",
    "            \"Statistical Significance\",\n",
    "            \"Moran Cluster Map\",\n",
    "        ][i],\n",
    "        y=0,\n",
    "    )\n",
    "# Tight layout to minimize in-between white space\n",
    "f.tight_layout()\n",
    "\n",
    "# Display the figure\n",
    "plt.show()"
   ]
  },
  {
   "cell_type": "code",
   "execution_count": null,
   "metadata": {
    "collapsed": true
   },
   "outputs": [],
   "source": [
    "counts = pandas.value_counts(lisa.q)\n",
    "counts"
   ]
  },
  {
   "cell_type": "code",
   "execution_count": null,
   "metadata": {
    "collapsed": true
   },
   "outputs": [],
   "source": [
    "(lisa.p_sim < 0.05).sum() * 100 / len(lisa.p_sim)"
   ]
  },
  {
   "cell_type": "code",
   "execution_count": null,
   "metadata": {
    "collapsed": true
   },
   "outputs": [],
   "source": [
    "# Assign pseudo P-values to `db`\n",
    "wk_am[\"p-sim\"] = lisa.p_sim\n",
    "# `1` if significant (at 5% confidence level), `0` otherwise\n",
    "sig = 1 * (lisa.p_sim < 0.05)\n",
    "# Assign significance flag to `db`\n",
    "wk_am[\"sig\"] = sig\n",
    "# Print top of the table to inspect\n",
    "wk_am[[\"sig\", \"p-sim\"]].head()"
   ]
  },
  {
   "cell_type": "code",
   "execution_count": null,
   "metadata": {
    "collapsed": true
   },
   "outputs": [],
   "source": [
    "# Print bottom of the table to inspect\n",
    "wk_am[[\"sig\", \"p-sim\"]].tail()"
   ]
  },
  {
   "cell_type": "code",
   "execution_count": null,
   "metadata": {
    "collapsed": true
   },
   "outputs": [],
   "source": [
    "# Pick as part of a quadrant only significant polygons,\n",
    "# assign `0` otherwise (Non-significant polygons)\n",
    "spots = lisa.q * sig\n",
    "# Mapping from value to name (as a dict)\n",
    "spots_labels = {\n",
    "    0: \"Non-Significant\",\n",
    "    1: \"HH\",\n",
    "    2: \"LH\",\n",
    "    3: \"LL\",\n",
    "    4: \"HL\",\n",
    "}\n",
    "# Create column in `db` with labels for each polygon\n",
    "wk_am[\"labels\"] = pandas.Series(\n",
    "    # First initialise a Series using values and `db` index\n",
    "    spots,\n",
    "    index=wk_am.index\n",
    "    # Then map each value to corresponding label based\n",
    "    # on the `spots_labels` mapping\n",
    ").map(spots_labels)\n",
    "# Print top for inspection\n",
    "wk_am[\"labels\"].head()"
   ]
  },
  {
   "cell_type": "code",
   "execution_count": null,
   "metadata": {
    "collapsed": true
   },
   "outputs": [],
   "source": [
    "wk_am[\"labels\"].value_counts()"
   ]
  },
  {
   "cell_type": "code",
   "execution_count": null,
   "metadata": {
    "collapsed": true
   },
   "outputs": [],
   "source": [
    "# Gi\n",
    "go_i = esda.getisord.G_Local(wk_am[\"fi_2ndsqrt\"], w)\n",
    "# Gi*\n",
    "go_i_star = esda.getisord.G_Local(wk_am[\"fi_2ndsqrt\"], w, star=True)"
   ]
  },
  {
   "cell_type": "code",
   "execution_count": null,
   "metadata": {
    "collapsed": true
   },
   "outputs": [],
   "source": [
    "def g_map(g, wk_am, ax):\n",
    "    \"\"\"\n",
    "    Create a cluster map\n",
    "    ...\n",
    "\n",
    "    Arguments\n",
    "    ---------\n",
    "    g      : G_Local\n",
    "             Object from the computation of the G statistic\n",
    "    wk_am     : GeoDataFrame\n",
    "             Table aligned with values in `g` and containing\n",
    "             the geometries to plot\n",
    "    ax     : AxesSubplot\n",
    "             `matplotlib` axis to draw the map on\n",
    "\n",
    "    Returns\n",
    "    -------\n",
    "    ax     : AxesSubplot\n",
    "             Axis with the map drawn\n",
    "    \"\"\"\n",
    "    ec = \"0.8\"\n",
    "\n",
    "    # Break observations into significant or not\n",
    "    sig = g.p_sim < 0.05\n",
    "\n",
    "    # Plot non-significant clusters\n",
    "    ns = wk_am.loc[sig == False, \"geometry\"]\n",
    "    ns.plot(ax=ax, color=\"lightgrey\", edgecolor=ec, linewidth=0.1)\n",
    "    # Plot HH clusters\n",
    "    hh = wk_am.loc[(g.Zs > 0) & (sig == True), \"geometry\"]\n",
    "    hh.plot(ax=ax, color=\"red\", edgecolor=ec, linewidth=0.1)\n",
    "    # Plot LL clusters\n",
    "    ll = wk_am.loc[(g.Zs < 0) & (sig == True), \"geometry\"]\n",
    "    ll.plot(ax=ax, color=\"blue\", edgecolor=ec, linewidth=0.1)\n",
    "    # Style and draw\n",
    "    contextily.add_basemap(\n",
    "        ax,\n",
    "        crs=wk_am.crs,\n",
    "        source=contextily.providers.CartoDB.VoyagerNoLabels,\n",
    "    )\n",
    "    # Flag to add a star to the title if it's G_i*\n",
    "    st = \"\"\n",
    "    if g.star:\n",
    "        st = \"*\"\n",
    "    # Add title\n",
    "    ax.set_title(f\"G{st} statistic for PTI\", size=15)\n",
    "    # Remove axis for aesthetics\n",
    "    ax.set_axis_off()\n",
    "    return ax"
   ]
  },
  {
   "cell_type": "code",
   "execution_count": null,
   "metadata": {
    "collapsed": true
   },
   "outputs": [],
   "source": [
    "# Set up figure and axes\n",
    "f, axs = plt.subplots(1, 2, figsize=(12, 6))\n",
    "# Loop over the two statistics\n",
    "for g, ax in zip([go_i, go_i_star], axs.flatten()):\n",
    "    # Generate the statistic's map\n",
    "    ax = g_map(g, wk_am, ax)\n",
    "# Tight layout to minimise blank spaces\n",
    "f.tight_layout()\n",
    "# Render\n",
    "plt.show()"
   ]
  },
  {
   "cell_type": "code",
   "execution_count": null,
   "metadata": {
    "collapsed": true
   },
   "outputs": [],
   "source": []
  }
 ],
 "metadata": {
  "kernelspec": {
   "display_name": "Python 3",
   "language": "python",
   "name": "python3"
  },
  "language_info": {
   "codemirror_mode": {
    "name": "ipython",
    "version": 3
   },
   "file_extension": ".py",
   "mimetype": "text/x-python",
   "name": "python",
   "nbconvert_exporter": "python",
   "pygments_lexer": "ipython3",
   "version": "3.5.4"
  }
 },
 "nbformat": 4,
 "nbformat_minor": 5
}
