{
 "cells": [
  {
   "cell_type": "code",
   "execution_count": 1,
   "id": "3a2e275f-908f-4efe-9437-ef7e4c4b6a8a",
   "metadata": {},
   "outputs": [],
   "source": [
    "import geopandas as gpd\n",
    "import pandas as pd\n",
    "import seaborn as sns\n",
    "import matplotlib.pyplot as plt\n",
    "import libpysal as lp\n",
    "import rasterio as rio\n",
    "import numpy as np\n",
    "import contextily as ctx\n",
    "import shapely.geometry as geom\n",
    "%matplotlib inline\n",
    "import warnings\n",
    "warnings.filterwarnings(\"ignore\")"
   ]
  },
  {
   "cell_type": "code",
   "execution_count": 2,
   "id": "f7385842-7ac3-49e9-832e-aee3f0f57dcb",
   "metadata": {},
   "outputs": [],
   "source": [
    "url = 'https://raw.github.com/ssujit/move_sustainable/main/data/'\n",
    "\n",
    "# variable declaration\n",
    "wkam = 'wkamo_hdn.gpkg' # wkamo: weekdays peak-traffic morning hours (6:00-8:59) \n",
    "wkpm = 'wkpmo_hdn.gpkg' # wkpmo: weekdays peak-traffic afternoon hours (14:00-16:59) \n",
    "satam = 'satamo_hdn.gpkg' # satamo: Saturday peak-traffic morning hours (6:00-8:59) \n",
    "satpm = 'satpmo_hdn.gpkg' # satpmo: Saturday peak-traffic afternoon hours (14:00-16:59)  \n",
    "sunam = 'sunamo_hdn.gpkg' # sunamo: Saturday peak-traffic morning hours (6:00-8:59)\n",
    "sunpm = 'sunamo_hdn.gpkg' # sunpmo: Saturday peak-traffic afternoon hours (14:00-16:59) \n",
    "\n",
    "#read the files\n",
    "wk_am = gpd.read_file(f'{url}{wkam}')\n",
    "wk_pm = gpd.read_file(f'{url}{wkpm}')\n",
    "sat_am = gpd.read_file(f'{url}{satam}')\n",
    "sat_pm = gpd.read_file(f'{url}{satpm}')\n",
    "sun_am = gpd.read_file(f'{url}{sunam}')\n",
    "sun_pm = gpd.read_file(f'{url}{sunpm}')"
   ]
  },
  {
   "cell_type": "code",
   "execution_count": 3,
   "id": "762366de-4906-47a7-a3ad-5ae6a101b422",
   "metadata": {},
   "outputs": [
    {
     "data": {
      "text/html": [
       "<div>\n",
       "<style scoped>\n",
       "    .dataframe tbody tr th:only-of-type {\n",
       "        vertical-align: middle;\n",
       "    }\n",
       "\n",
       "    .dataframe tbody tr th {\n",
       "        vertical-align: top;\n",
       "    }\n",
       "\n",
       "    .dataframe thead th {\n",
       "        text-align: right;\n",
       "    }\n",
       "</style>\n",
       "<table border=\"1\" class=\"dataframe\">\n",
       "  <thead>\n",
       "    <tr style=\"text-align: right;\">\n",
       "      <th></th>\n",
       "      <th>VALUE</th>\n",
       "      <th>grid_name</th>\n",
       "      <th>net_dis</th>\n",
       "      <th>perH_sum</th>\n",
       "      <th>pti</th>\n",
       "      <th>geometry</th>\n",
       "    </tr>\n",
       "  </thead>\n",
       "  <tbody>\n",
       "    <tr>\n",
       "      <th>0</th>\n",
       "      <td>768.94497</td>\n",
       "      <td>2</td>\n",
       "      <td>769</td>\n",
       "      <td>4.33333</td>\n",
       "      <td>0.005635</td>\n",
       "      <td>POLYGON ((354747.343 5672460.510, 355828.624 5...</td>\n",
       "    </tr>\n",
       "    <tr>\n",
       "      <th>1</th>\n",
       "      <td>855.81989</td>\n",
       "      <td>3</td>\n",
       "      <td>856</td>\n",
       "      <td>0.66666</td>\n",
       "      <td>0.000779</td>\n",
       "      <td>POLYGON ((355828.624 5672460.510, 356909.906 5...</td>\n",
       "    </tr>\n",
       "    <tr>\n",
       "      <th>2</th>\n",
       "      <td>988.74922</td>\n",
       "      <td>4</td>\n",
       "      <td>989</td>\n",
       "      <td>NaN</td>\n",
       "      <td>NaN</td>\n",
       "      <td>POLYGON ((356909.906 5672460.510, 357991.187 5...</td>\n",
       "    </tr>\n",
       "    <tr>\n",
       "      <th>3</th>\n",
       "      <td>707.28729</td>\n",
       "      <td>5</td>\n",
       "      <td>707</td>\n",
       "      <td>2.00000</td>\n",
       "      <td>0.002828</td>\n",
       "      <td>POLYGON ((353666.061 5671273.733, 354747.343 5...</td>\n",
       "    </tr>\n",
       "    <tr>\n",
       "      <th>4</th>\n",
       "      <td>166.20974</td>\n",
       "      <td>6</td>\n",
       "      <td>166</td>\n",
       "      <td>10.66666</td>\n",
       "      <td>0.064176</td>\n",
       "      <td>POLYGON ((354747.343 5671273.733, 355828.624 5...</td>\n",
       "    </tr>\n",
       "  </tbody>\n",
       "</table>\n",
       "</div>"
      ],
      "text/plain": [
       "       VALUE  grid_name  net_dis  perH_sum       pti  \\\n",
       "0  768.94497          2      769   4.33333  0.005635   \n",
       "1  855.81989          3      856   0.66666  0.000779   \n",
       "2  988.74922          4      989       NaN       NaN   \n",
       "3  707.28729          5      707   2.00000  0.002828   \n",
       "4  166.20974          6      166  10.66666  0.064176   \n",
       "\n",
       "                                            geometry  \n",
       "0  POLYGON ((354747.343 5672460.510, 355828.624 5...  \n",
       "1  POLYGON ((355828.624 5672460.510, 356909.906 5...  \n",
       "2  POLYGON ((356909.906 5672460.510, 357991.187 5...  \n",
       "3  POLYGON ((353666.061 5671273.733, 354747.343 5...  \n",
       "4  POLYGON ((354747.343 5671273.733, 355828.624 5...  "
      ]
     },
     "execution_count": 3,
     "metadata": {},
     "output_type": "execute_result"
    }
   ],
   "source": [
    "sun_am.head()"
   ]
  },
  {
   "cell_type": "code",
   "execution_count": 4,
   "id": "c3860516-da14-4957-b1e6-e2b4946a76dd",
   "metadata": {},
   "outputs": [
    {
     "data": {
      "text/html": [
       "<div style=\"width:100%;\"><div style=\"position:relative;width:100%;height:0;padding-bottom:60%;\"><span style=\"color:#565656\">Make this Notebook Trusted to load map: File -> Trust Notebook</span><iframe srcdoc=\"&lt;!DOCTYPE html&gt;\n",
       "&lt;html&gt;\n",
       "&lt;head&gt;\n",
       "    \n",
       "    &lt;meta http-equiv=&quot;content-type&quot; content=&quot;text/html; charset=UTF-8&quot; /&gt;\n",
       "    \n",
       "        &lt;script&gt;\n",
       "            L_NO_TOUCH = false;\n",
       "            L_DISABLE_3D = false;\n",
       "        &lt;/script&gt;\n",
       "    \n",
       "    &lt;style&gt;html, body {width: 100%;height: 100%;margin: 0;padding: 0;}&lt;/style&gt;\n",
       "    &lt;style&gt;#map {position:absolute;top:0;bottom:0;right:0;left:0;}&lt;/style&gt;\n",
       "    &lt;script src=&quot;https://cdn.jsdelivr.net/npm/leaflet@1.9.3/dist/leaflet.js&quot;&gt;&lt;/script&gt;\n",
       "    &lt;script src=&quot;https://code.jquery.com/jquery-1.12.4.min.js&quot;&gt;&lt;/script&gt;\n",
       "    &lt;script src=&quot;https://cdn.jsdelivr.net/npm/bootstrap@5.2.2/dist/js/bootstrap.bundle.min.js&quot;&gt;&lt;/script&gt;\n",
       "    &lt;script src=&quot;https://cdnjs.cloudflare.com/ajax/libs/Leaflet.awesome-markers/2.0.2/leaflet.awesome-markers.js&quot;&gt;&lt;/script&gt;\n",
       "    &lt;link rel=&quot;stylesheet&quot; href=&quot;https://cdn.jsdelivr.net/npm/leaflet@1.9.3/dist/leaflet.css&quot;/&gt;\n",
       "    &lt;link rel=&quot;stylesheet&quot; href=&quot;https://cdn.jsdelivr.net/npm/bootstrap@5.2.2/dist/css/bootstrap.min.css&quot;/&gt;\n",
       "    &lt;link rel=&quot;stylesheet&quot; href=&quot;https://netdna.bootstrapcdn.com/bootstrap/3.0.0/css/bootstrap.min.css&quot;/&gt;\n",
       "    &lt;link rel=&quot;stylesheet&quot; href=&quot;https://cdn.jsdelivr.net/npm/@fortawesome/fontawesome-free@6.2.0/css/all.min.css&quot;/&gt;\n",
       "    &lt;link rel=&quot;stylesheet&quot; href=&quot;https://cdnjs.cloudflare.com/ajax/libs/Leaflet.awesome-markers/2.0.2/leaflet.awesome-markers.css&quot;/&gt;\n",
       "    &lt;link rel=&quot;stylesheet&quot; href=&quot;https://cdn.jsdelivr.net/gh/python-visualization/folium/folium/templates/leaflet.awesome.rotate.min.css&quot;/&gt;\n",
       "    \n",
       "            &lt;meta name=&quot;viewport&quot; content=&quot;width=device-width,\n",
       "                initial-scale=1.0, maximum-scale=1.0, user-scalable=no&quot; /&gt;\n",
       "            &lt;style&gt;\n",
       "                #map_db9d414bdab5552a09277f3a80afa73d {\n",
       "                    position: relative;\n",
       "                    width: 100.0%;\n",
       "                    height: 100.0%;\n",
       "                    left: 0.0%;\n",
       "                    top: 0.0%;\n",
       "                }\n",
       "                .leaflet-container { font-size: 1rem; }\n",
       "            &lt;/style&gt;\n",
       "        \n",
       "    \n",
       "                    &lt;style&gt;\n",
       "                        .foliumtooltip {\n",
       "                            \n",
       "                        }\n",
       "                       .foliumtooltip table{\n",
       "                            margin: auto;\n",
       "                        }\n",
       "                        .foliumtooltip tr{\n",
       "                            text-align: left;\n",
       "                        }\n",
       "                        .foliumtooltip th{\n",
       "                            padding: 2px; padding-right: 8px;\n",
       "                        }\n",
       "                    &lt;/style&gt;\n",
       "            \n",
       "&lt;/head&gt;\n",
       "&lt;body&gt;\n",
       "    \n",
       "    \n",
       "            &lt;div class=&quot;folium-map&quot; id=&quot;map_db9d414bdab5552a09277f3a80afa73d&quot; &gt;&lt;/div&gt;\n",
       "        \n",
       "&lt;/body&gt;\n",
       "&lt;script&gt;\n",
       "    \n",
       "    \n",
       "            var map_db9d414bdab5552a09277f3a80afa73d = L.map(\n",
       "                &quot;map_db9d414bdab5552a09277f3a80afa73d&quot;,\n",
       "                {\n",
       "                    center: [51.16935776098323, 6.9377715111740965],\n",
       "                    crs: L.CRS.EPSG3857,\n",
       "                    zoom: 10,\n",
       "                    zoomControl: true,\n",
       "                    preferCanvas: false,\n",
       "                }\n",
       "            );\n",
       "            L.control.scale().addTo(map_db9d414bdab5552a09277f3a80afa73d);\n",
       "\n",
       "            \n",
       "\n",
       "        \n",
       "    \n",
       "            var tile_layer_f60e18a084d63a4a114da88806986aab = L.tileLayer(\n",
       "                &quot;https://{s}.tile.openstreetmap.org/{z}/{x}/{y}.png&quot;,\n",
       "                {&quot;attribution&quot;: &quot;Data by \\u0026copy; \\u003ca target=\\&quot;_blank\\&quot; href=\\&quot;http://openstreetmap.org\\&quot;\\u003eOpenStreetMap\\u003c/a\\u003e, under \\u003ca target=\\&quot;_blank\\&quot; href=\\&quot;http://www.openstreetmap.org/copyright\\&quot;\\u003eODbL\\u003c/a\\u003e.&quot;, &quot;detectRetina&quot;: false, &quot;maxNativeZoom&quot;: 18, &quot;maxZoom&quot;: 18, &quot;minZoom&quot;: 0, &quot;noWrap&quot;: false, &quot;opacity&quot;: 1, &quot;subdomains&quot;: &quot;abc&quot;, &quot;tms&quot;: false}\n",
       "            ).addTo(map_db9d414bdab5552a09277f3a80afa73d);\n",
       "        \n",
       "    \n",
       "            map_db9d414bdab5552a09277f3a80afa73d.fitBounds(\n",
       "                [[51.14215047050547, 6.891165934237533], [51.196565051461, 6.984377088110661]],\n",
       "                {}\n",
       "            );\n",
       "        \n",
       "    \n",
       "        function geo_json_11c8d6171bc34c611aa1853c6c7cdfcb_styler(feature) {\n",
       "            switch(feature.id) {\n",
       "                default:\n",
       "                    return {&quot;fillOpacity&quot;: 0.5, &quot;weight&quot;: 2};\n",
       "            }\n",
       "        }\n",
       "        function geo_json_11c8d6171bc34c611aa1853c6c7cdfcb_highlighter(feature) {\n",
       "            switch(feature.id) {\n",
       "                default:\n",
       "                    return {&quot;fillOpacity&quot;: 0.75};\n",
       "            }\n",
       "        }\n",
       "        function geo_json_11c8d6171bc34c611aa1853c6c7cdfcb_pointToLayer(feature, latlng) {\n",
       "            var opts = {&quot;bubblingMouseEvents&quot;: true, &quot;color&quot;: &quot;#3388ff&quot;, &quot;dashArray&quot;: null, &quot;dashOffset&quot;: null, &quot;fill&quot;: true, &quot;fillColor&quot;: &quot;#3388ff&quot;, &quot;fillOpacity&quot;: 0.2, &quot;fillRule&quot;: &quot;evenodd&quot;, &quot;lineCap&quot;: &quot;round&quot;, &quot;lineJoin&quot;: &quot;round&quot;, &quot;opacity&quot;: 1.0, &quot;radius&quot;: 2, &quot;stroke&quot;: true, &quot;weight&quot;: 3};\n",
       "            \n",
       "            let style = geo_json_11c8d6171bc34c611aa1853c6c7cdfcb_styler(feature)\n",
       "            Object.assign(opts, style)\n",
       "            \n",
       "            return new L.CircleMarker(latlng, opts)\n",
       "        }\n",
       "\n",
       "        function geo_json_11c8d6171bc34c611aa1853c6c7cdfcb_onEachFeature(feature, layer) {\n",
       "            layer.on({\n",
       "                mouseout: function(e) {\n",
       "                    if(typeof e.target.setStyle === &quot;function&quot;){\n",
       "                        geo_json_11c8d6171bc34c611aa1853c6c7cdfcb.resetStyle(e.target);\n",
       "                    }\n",
       "                },\n",
       "                mouseover: function(e) {\n",
       "                    if(typeof e.target.setStyle === &quot;function&quot;){\n",
       "                        const highlightStyle = geo_json_11c8d6171bc34c611aa1853c6c7cdfcb_highlighter(e.target.feature)\n",
       "                        e.target.setStyle(highlightStyle);\n",
       "                    }\n",
       "                },\n",
       "            });\n",
       "        };\n",
       "        var geo_json_11c8d6171bc34c611aa1853c6c7cdfcb = L.geoJson(null, {\n",
       "                onEachFeature: geo_json_11c8d6171bc34c611aa1853c6c7cdfcb_onEachFeature,\n",
       "            \n",
       "                style: geo_json_11c8d6171bc34c611aa1853c6c7cdfcb_styler,\n",
       "                pointToLayer: geo_json_11c8d6171bc34c611aa1853c6c7cdfcb_pointToLayer\n",
       "        });\n",
       "\n",
       "        function geo_json_11c8d6171bc34c611aa1853c6c7cdfcb_add (data) {\n",
       "            geo_json_11c8d6171bc34c611aa1853c6c7cdfcb\n",
       "                .addData(data)\n",
       "                .addTo(map_db9d414bdab5552a09277f3a80afa73d);\n",
       "        }\n",
       "            geo_json_11c8d6171bc34c611aa1853c6c7cdfcb_add({&quot;bbox&quot;: [6.891165934237533, 51.14215047050547, 6.984377088110661, 51.196565051461], &quot;features&quot;: [{&quot;bbox&quot;: [6.921120607628221, 51.18508493643015, 6.937061707607606, 51.196023496867866], &quot;geometry&quot;: {&quot;coordinates&quot;: [[[6.921600598552365, 51.18508493643015], [6.937061707607606, 51.18535867429443], [6.936585281112668, 51.196023496867866], [6.921120607628221, 51.19574965532198], [6.921600598552365, 51.18508493643015]]], &quot;type&quot;: &quot;Polygon&quot;}, &quot;id&quot;: &quot;0&quot;, &quot;properties&quot;: {&quot;VALUE&quot;: 768.94497, &quot;grid_name&quot;: 2, &quot;net_dis&quot;: 769, &quot;perH_sum&quot;: 4.33333, &quot;pti&quot;: 0.005635422779344015}, &quot;type&quot;: &quot;Feature&quot;}, {&quot;bbox&quot;: [6.936585281112668, 51.18535867429443, 6.952523058345878, 51.196295295605765], &quot;geometry&quot;: {&quot;coordinates&quot;: [[[6.937061707607606, 51.18535867429443], [6.952523058345878, 51.18563037012296], [6.952050196474685, 51.196295295605765], [6.936585281112668, 51.196023496867866], [6.937061707607606, 51.18535867429443]]], &quot;type&quot;: &quot;Polygon&quot;}, &quot;id&quot;: &quot;1&quot;, &quot;properties&quot;: {&quot;VALUE&quot;: 855.81989, &quot;grid_name&quot;: 3, &quot;net_dis&quot;: 856, &quot;perH_sum&quot;: 0.66666, &quot;pti&quot;: 0.0007789723139059085}, &quot;type&quot;: &quot;Feature&quot;}, {&quot;bbox&quot;: [6.952050196474685, 51.18563037012296, 6.967984648962414, 51.196565051461], &quot;geometry&quot;: {&quot;coordinates&quot;: [[[6.952523058345878, 51.18563037012296], [6.967984648962414, 51.1859000238411], [6.967515351908055, 51.196565051461], [6.952050196474685, 51.196295295605765], [6.952523058345878, 51.18563037012296]]], &quot;type&quot;: &quot;Polygon&quot;}, &quot;id&quot;: &quot;2&quot;, &quot;properties&quot;: {&quot;VALUE&quot;: 988.74922, &quot;grid_name&quot;: 4, &quot;net_dis&quot;: 989, &quot;perH_sum&quot;: null, &quot;pti&quot;: null}, &quot;type&quot;: &quot;Feature&quot;}, {&quot;bbox&quot;: [6.906139732984744, 51.17414451933139, 6.922080296158885, 51.18508493643015], &quot;geometry&quot;: {&quot;coordinates&quot;: [[[6.906622992650803, 51.17414451933139], [6.922080296158885, 51.1744201947504], [6.921600598552365, 51.18508493643015], [6.906139732984744, 51.18480915660531], [6.906622992650803, 51.17414451933139]]], &quot;type&quot;: &quot;Polygon&quot;}, &quot;id&quot;: &quot;3&quot;, &quot;properties&quot;: {&quot;VALUE&quot;: 707.28729, &quot;grid_name&quot;: 5, &quot;net_dis&quot;: 707, &quot;perH_sum&quot;: 2.0, &quot;pti&quot;: 0.002827705273765064}, &quot;type&quot;: &quot;Feature&quot;}, {&quot;bbox&quot;: [6.921600598552365, 51.1744201947504, 6.937537842958818, 51.18535867429443], &quot;geometry&quot;: {&quot;coordinates&quot;: [[[6.922080296158885, 51.1744201947504], [6.937537842958818, 51.17469382898066], [6.937061707607606, 51.18535867429443], [6.921600598552365, 51.18508493643015], [6.922080296158885, 51.1744201947504]]], &quot;type&quot;: &quot;Polygon&quot;}, &quot;id&quot;: &quot;4&quot;, &quot;properties&quot;: {&quot;VALUE&quot;: 166.20974, &quot;grid_name&quot;: 6, &quot;net_dis&quot;: 166, &quot;perH_sum&quot;: 10.66666, &quot;pti&quot;: 0.06417590208612323}, &quot;type&quot;: &quot;Feature&quot;}, {&quot;bbox&quot;: [6.937061707607606, 51.17469382898066, 6.952995631247458, 51.18563037012296], &quot;geometry&quot;: {&quot;coordinates&quot;: [[[6.937537842958818, 51.17469382898066], [6.952995631247458, 51.17496542194708], [6.952523058345878, 51.18563037012296], [6.937061707607606, 51.18535867429443], [6.937537842958818, 51.17469382898066]]], &quot;type&quot;: &quot;Polygon&quot;}, &quot;id&quot;: &quot;5&quot;, &quot;properties&quot;: {&quot;VALUE&quot;: 545.75839, &quot;grid_name&quot;: 7, &quot;net_dis&quot;: 546, &quot;perH_sum&quot;: 4.66666, &quot;pti&quot;: 0.008550780135510149}, &quot;type&quot;: &quot;Feature&quot;}, {&quot;bbox&quot;: [6.952523058345878, 51.17496542194708, 6.968453659221487, 51.1859000238411], &quot;geometry&quot;: {&quot;coordinates&quot;: [[[6.952995631247458, 51.17496542194708], [6.968453659221487, 51.17523497357503], [6.967984648962414, 51.1859000238411], [6.952523058345878, 51.18563037012296], [6.952995631247458, 51.17496542194708]]], &quot;type&quot;: &quot;Polygon&quot;}, &quot;id&quot;: &quot;6&quot;, &quot;properties&quot;: {&quot;VALUE&quot;: 534.9425, &quot;grid_name&quot;: 8, &quot;net_dis&quot;: 535, &quot;perH_sum&quot;: 3.0, &quot;pti&quot;: 0.005608079373016726}, &quot;type&quot;: &quot;Feature&quot;}, {&quot;bbox&quot;: [6.967984648962414, 51.17523497357503, 6.983911925077409, 51.186167635374794], &quot;geometry&quot;: {&quot;coordinates&quot;: [[[6.968453659221487, 51.17523497357503], [6.983911925077409, 51.17550248379052], [6.983446477652273, 51.186167635374794], [6.967984648962414, 51.1859000238411], [6.968453659221487, 51.17523497357503]]], &quot;type&quot;: &quot;Polygon&quot;}, &quot;id&quot;: &quot;7&quot;, &quot;properties&quot;: {&quot;VALUE&quot;: 581.81604, &quot;grid_name&quot;: 9, &quot;net_dis&quot;: 582, &quot;perH_sum&quot;: 3.0, &quot;pti&quot;: 0.005156268981515188}, &quot;type&quot;: &quot;Feature&quot;}, {&quot;bbox&quot;: [6.891165934237533, 51.163202247819996, 6.907105957063132, 51.17414451933139], &quot;geometry&quot;: {&quot;coordinates&quot;: [[[6.891652458340462, 51.163202247819996], [6.907105957063132, 51.163479859222704], [6.906622992650803, 51.17414451933139], [6.891165934237533, 51.17386680279936], [6.891652458340462, 51.163202247819996]]], &quot;type&quot;: &quot;Polygon&quot;}, &quot;id&quot;: &quot;8&quot;, &quot;properties&quot;: {&quot;VALUE&quot;: 924.42967, &quot;grid_name&quot;: 10, &quot;net_dis&quot;: 924, &quot;perH_sum&quot;: 3.0, &quot;pti&quot;: 0.0032452441730910692}, &quot;type&quot;: &quot;Feature&quot;}, {&quot;bbox&quot;: [6.906622992650803, 51.163479859222704, 6.9225597006836175, 51.1744201947504], &quot;geometry&quot;: {&quot;coordinates&quot;: [[[6.907105957063132, 51.163479859222704], [6.9225597006836175, 51.163755430283786], [6.922080296158885, 51.1744201947504], [6.906622992650803, 51.17414451933139], [6.907105957063132, 51.163479859222704]]], &quot;type&quot;: &quot;Polygon&quot;}, &quot;id&quot;: &quot;9&quot;, &quot;properties&quot;: {&quot;VALUE&quot;: 450.78054, &quot;grid_name&quot;: 11, &quot;net_dis&quot;: 451, &quot;perH_sum&quot;: 33.333333333, &quot;pti&quot;: 0.07394581259652425}, &quot;type&quot;: &quot;Feature&quot;}, {&quot;bbox&quot;: [6.922080296158885, 51.163755430283786, 6.938013687400398, 51.17469382898066], &quot;geometry&quot;: {&quot;coordinates&quot;: [[[6.9225597006836175, 51.163755430283786], [6.938013687400398, 51.164028960927624], [6.937537842958818, 51.17469382898066], [6.922080296158885, 51.1744201947504], [6.9225597006836175, 51.163755430283786]]], &quot;type&quot;: &quot;Polygon&quot;}, &quot;id&quot;: &quot;10&quot;, &quot;properties&quot;: {&quot;VALUE&quot;: 155.52592, &quot;grid_name&quot;: 12, &quot;net_dis&quot;: 156, &quot;perH_sum&quot;: 29.33334, &quot;pti&quot;: 0.18860740383339317}, &quot;type&quot;: &quot;Feature&quot;}, {&quot;bbox&quot;: [6.937537842958818, 51.164028960927624, 6.953467915411777, 51.17496542194708], &quot;geometry&quot;: {&quot;coordinates&quot;: [[[6.938013687400398, 51.164028960927624], [6.953467915411777, 51.16430045107912], [6.952995631247458, 51.17496542194708], [6.937537842958818, 51.17469382898066], [6.938013687400398, 51.164028960927624]]], &quot;type&quot;: &quot;Polygon&quot;}, &quot;id&quot;: &quot;11&quot;, &quot;properties&quot;: {&quot;VALUE&quot;: 150.39108, &quot;grid_name&quot;: 13, &quot;net_dis&quot;: 150, &quot;perH_sum&quot;: 26.33333, &quot;pti&quot;: 0.17509901518095355}, &quot;type&quot;: &quot;Feature&quot;}, {&quot;bbox&quot;: [6.952995631247458, 51.16430045107912, 6.968922382915882, 51.17523497357503], &quot;geometry&quot;: {&quot;coordinates&quot;: [[[6.953467915411777, 51.16430045107912], [6.968922382915882, 51.16456990066374], [6.968453659221487, 51.17523497357503], [6.952995631247458, 51.17496542194708], [6.953467915411777, 51.16430045107912]]], &quot;type&quot;: &quot;Polygon&quot;}, &quot;id&quot;: &quot;12&quot;, &quot;properties&quot;: {&quot;VALUE&quot;: 332.54265, &quot;grid_name&quot;: 14, &quot;net_dis&quot;: 333, &quot;perH_sum&quot;: 7.33334, &quot;pti&quot;: 0.022052329227544198}, &quot;type&quot;: &quot;Feature&quot;}, {&quot;bbox&quot;: [6.968453659221487, 51.16456990066374, 6.984377088110661, 51.17550248379052], &quot;geometry&quot;: {&quot;coordinates&quot;: [[[6.968922382915882, 51.16456990066374], [6.984377088110661, 51.164837309607535], [6.983911925077409, 51.17550248379052], [6.968453659221487, 51.17523497357503], [6.968922382915882, 51.16456990066374]]], &quot;type&quot;: &quot;Polygon&quot;}, &quot;id&quot;: &quot;13&quot;, &quot;properties&quot;: {&quot;VALUE&quot;: 340.0874, &quot;grid_name&quot;: 15, &quot;net_dis&quot;: 340, &quot;perH_sum&quot;: 7.33334, &quot;pti&quot;: 0.02156310407265897}, &quot;type&quot;: &quot;Feature&quot;}, {&quot;bbox&quot;: [6.891652458340462, 51.15253766995873, 6.907588626459046, 51.163479859222704], &quot;geometry&quot;: {&quot;coordinates&quot;: [[[6.892138685256995, 51.15253766995873], [6.907588626459046, 51.15281517628035], [6.907105957063132, 51.163479859222704], [6.891652458340462, 51.163202247819996], [6.892138685256995, 51.15253766995873]]], &quot;type&quot;: &quot;Polygon&quot;}, &quot;id&quot;: &quot;14&quot;, &quot;properties&quot;: {&quot;VALUE&quot;: 772.50642, &quot;grid_name&quot;: 16, &quot;net_dis&quot;: 773, &quot;perH_sum&quot;: 3.0, &quot;pti&quot;: 0.00388346287141536}, &quot;type&quot;: &quot;Feature&quot;}, {&quot;bbox&quot;: [6.907105957063132, 51.15281517628035, 6.923038812362132, 51.163755430283786], &quot;geometry&quot;: {&quot;coordinates&quot;: [[[6.907588626459046, 51.15281517628035], [6.923038812362132, 51.15309064303141], [6.9225597006836175, 51.163755430283786], [6.907105957063132, 51.163479859222704], [6.907588626459046, 51.15281517628035]]], &quot;type&quot;: &quot;Polygon&quot;}, &quot;id&quot;: &quot;15&quot;, &quot;properties&quot;: {&quot;VALUE&quot;: 878.06171, &quot;grid_name&quot;: 17, &quot;net_dis&quot;: 878, &quot;perH_sum&quot;: 3.0, &quot;pti&quot;: 0.003416616356041764}, &quot;type&quot;: &quot;Feature&quot;}, {&quot;bbox&quot;: [6.9225597006836175, 51.15309064303141, 6.9384892411661765, 51.164028960927624], &quot;geometry&quot;: {&quot;coordinates&quot;: [[[6.923038812362132, 51.15309064303141], [6.9384892411661765, 51.153364070136334], [6.938013687400398, 51.164028960927624], [6.9225597006836175, 51.163755430283786], [6.923038812362132, 51.15309064303141]]], &quot;type&quot;: &quot;Polygon&quot;}, &quot;id&quot;: &quot;16&quot;, &quot;properties&quot;: {&quot;VALUE&quot;: 154.46499, &quot;grid_name&quot;: 18, &quot;net_dis&quot;: 154, &quot;perH_sum&quot;: 23.333333333, &quot;pti&quot;: 0.1510590414889484}, &quot;type&quot;: &quot;Feature&quot;}, {&quot;bbox&quot;: [6.938013687400398, 51.153364070136334, 6.9539399110709255, 51.16430045107912], &quot;geometry&quot;: {&quot;coordinates&quot;: [[[6.9384892411661765, 51.153364070136334], [6.9539399110709255, 51.153635457520075], [6.953467915411777, 51.16430045107912], [6.938013687400398, 51.164028960927624], [6.9384892411661765, 51.153364070136334]]], &quot;type&quot;: &quot;Polygon&quot;}, &quot;id&quot;: &quot;17&quot;, &quot;properties&quot;: {&quot;VALUE&quot;: 160.04669, &quot;grid_name&quot;: 19, &quot;net_dis&quot;: 160, &quot;perH_sum&quot;: 24.66668, &quot;pti&quot;: 0.15412177533943375}, &quot;type&quot;: &quot;Feature&quot;}, {&quot;bbox&quot;: [6.953467915411777, 51.153635457520075, 6.969390820275948, 51.16456990066374], &quot;geometry&quot;: {&quot;coordinates&quot;: [[[6.9539399110709255, 51.153635457520075], [6.969390820275948, 51.15390480510819], [6.968922382915882, 51.16456990066374], [6.953467915411777, 51.16430045107912], [6.9539399110709255, 51.153635457520075]]], &quot;type&quot;: &quot;Polygon&quot;}, &quot;id&quot;: &quot;18&quot;, &quot;properties&quot;: {&quot;VALUE&quot;: 499.04745, &quot;grid_name&quot;: 20, &quot;net_dis&quot;: 499, &quot;perH_sum&quot;: null, &quot;pti&quot;: null}, &quot;type&quot;: &quot;Feature&quot;}, {&quot;bbox&quot;: [6.907588626459046, 51.14215047050547, 6.923517631429744, 51.15309064303141], &quot;geometry&quot;: {&quot;coordinates&quot;: [[[6.908071001075597, 51.14215047050547], [6.923517631429744, 51.14242583299433], [6.923038812362132, 51.15309064303141], [6.907588626459046, 51.15281517628035], [6.908071001075597, 51.14215047050547]]], &quot;type&quot;: &quot;Polygon&quot;}, &quot;id&quot;: &quot;19&quot;, &quot;properties&quot;: {&quot;VALUE&quot;: 943.595, &quot;grid_name&quot;: 21, &quot;net_dis&quot;: 944, &quot;perH_sum&quot;: null, &quot;pti&quot;: null}, &quot;type&quot;: &quot;Feature&quot;}, {&quot;bbox&quot;: [6.923038812362132, 51.14242583299433, 6.9389645044897295, 51.153364070136334], &quot;geometry&quot;: {&quot;coordinates&quot;: [[[6.923517631429744, 51.14242583299433], [6.9389645044897295, 51.14269915660781], [6.9384892411661765, 51.153364070136334], [6.923038812362132, 51.15309064303141], [6.923517631429744, 51.14242583299433]]], &quot;type&quot;: &quot;Polygon&quot;}, &quot;id&quot;: &quot;20&quot;, &quot;properties&quot;: {&quot;VALUE&quot;: 966.04162, &quot;grid_name&quot;: 22, &quot;net_dis&quot;: 966, &quot;perH_sum&quot;: null, &quot;pti&quot;: null}, &quot;type&quot;: &quot;Feature&quot;}, {&quot;bbox&quot;: [6.9384892411661765, 51.14269915660781, 6.954411618456738, 51.153635457520075], &quot;geometry&quot;: {&quot;coordinates&quot;: [[[6.9389645044897295, 51.14269915660781], [6.954411618456738, 51.14297044127095], [6.9539399110709255, 51.153635457520075], [6.9384892411661765, 51.153364070136334], [6.9389645044897295, 51.14269915660781]]], &quot;type&quot;: &quot;Polygon&quot;}, &quot;id&quot;: &quot;21&quot;, &quot;properties&quot;: {&quot;VALUE&quot;: 195.37836, &quot;grid_name&quot;: 23, &quot;net_dis&quot;: 195, &quot;perH_sum&quot;: 12.33334, &quot;pti&quot;: 0.06312541470815909}, &quot;type&quot;: &quot;Feature&quot;}], &quot;type&quot;: &quot;FeatureCollection&quot;});\n",
       "\n",
       "        \n",
       "    \n",
       "    geo_json_11c8d6171bc34c611aa1853c6c7cdfcb.bindTooltip(\n",
       "    function(layer){\n",
       "    let div = L.DomUtil.create(&#x27;div&#x27;);\n",
       "    \n",
       "    let handleObject = feature=&gt;typeof(feature)==&#x27;object&#x27; ? JSON.stringify(feature) : feature;\n",
       "    let fields = [&quot;VALUE&quot;, &quot;grid_name&quot;, &quot;net_dis&quot;, &quot;perH_sum&quot;, &quot;pti&quot;];\n",
       "    let aliases = [&quot;VALUE&quot;, &quot;grid_name&quot;, &quot;net_dis&quot;, &quot;perH_sum&quot;, &quot;pti&quot;];\n",
       "    let table = &#x27;&lt;table&gt;&#x27; +\n",
       "        String(\n",
       "        fields.map(\n",
       "        (v,i)=&gt;\n",
       "        `&lt;tr&gt;\n",
       "            &lt;th&gt;${aliases[i]}&lt;/th&gt;\n",
       "            \n",
       "            &lt;td&gt;${handleObject(layer.feature.properties[v])}&lt;/td&gt;\n",
       "        &lt;/tr&gt;`).join(&#x27;&#x27;))\n",
       "    +&#x27;&lt;/table&gt;&#x27;;\n",
       "    div.innerHTML=table;\n",
       "    \n",
       "    return div\n",
       "    }\n",
       "    ,{&quot;className&quot;: &quot;foliumtooltip&quot;, &quot;sticky&quot;: true});\n",
       "                     \n",
       "&lt;/script&gt;\n",
       "&lt;/html&gt;\" style=\"position:absolute;width:100%;height:100%;left:0;top:0;border:none !important;\" allowfullscreen webkitallowfullscreen mozallowfullscreen></iframe></div></div>"
      ],
      "text/plain": [
       "<folium.folium.Map at 0x13b652ad0>"
      ]
     },
     "execution_count": 4,
     "metadata": {},
     "output_type": "execute_result"
    }
   ],
   "source": [
    "sun_am.explore()"
   ]
  },
  {
   "cell_type": "code",
   "execution_count": 5,
   "id": "6f5f1e35-2a49-404e-b8cd-6c077665e55f",
   "metadata": {},
   "outputs": [
    {
     "data": {
      "text/plain": [
       "<Axes: xlabel='pti', ylabel='Density'>"
      ]
     },
     "execution_count": 5,
     "metadata": {},
     "output_type": "execute_result"
    },
    {
     "data": {
      "image/png": "[encoded data removed]",
      "text/plain": [
       "<Figure size 640x480 with 1 Axes>"
      ]
     },
     "metadata": {},
     "output_type": "display_data"
    }
   ],
   "source": [
    "sns.distplot(sun_am['pti'])"
   ]
  },
  {
   "cell_type": "code",
   "execution_count": 6,
   "id": "119cd576-fa9f-48ca-94c2-088ad5e3ac94",
   "metadata": {},
   "outputs": [
    {
     "data": {
      "text/plain": [
       "<Axes: >"
      ]
     },
     "execution_count": 6,
     "metadata": {},
     "output_type": "execute_result"
    },
    {
     "data": {
      "image/png": "[encoded data removed]",
      "text/plain": [
       "<Figure size 640x480 with 1 Axes>"
      ]
     },
     "metadata": {},
     "output_type": "display_data"
    }
   ],
   "source": [
    "sun_am.plot(\"pti\")"
   ]
  },
  {
   "cell_type": "code",
   "execution_count": 7,
   "id": "c2b733d6-9244-4bac-87ca-7a8bb9d858c6",
   "metadata": {},
   "outputs": [
    {
     "data": {
      "text/plain": [
       "<Axes: >"
      ]
     },
     "execution_count": 7,
     "metadata": {},
     "output_type": "execute_result"
    },
    {
     "data": {
      "image/png": "[encoded data removed]",
      "text/plain": [
       "<Figure size 1200x1000 with 1 Axes>"
      ]
     },
     "metadata": {},
     "output_type": "display_data"
    }
   ],
   "source": [
    "fig, ax = plt.subplots(figsize=(12,10), subplot_kw=dict(aspect='equal'))\n",
    "sun_am.plot(column='pti', scheme='Quantiles', \n",
    "        k=5, cmap='GnBu', legend=True, ax=ax)"
   ]
  },
  {
   "cell_type": "code",
   "execution_count": 8,
   "id": "dda829bd-2187-471c-847f-3647ccbd35af",
   "metadata": {},
   "outputs": [],
   "source": [
    "wq =  lp.weights.Queen.from_dataframe(sun_am)\n",
    "wq.transform = 'r'"
   ]
  },
  {
   "cell_type": "code",
   "execution_count": 9,
   "id": "a9e63d6f-5d92-4449-a2f6-d27db4902f1a",
   "metadata": {},
   "outputs": [],
   "source": [
    "y = sun_am['pti']\n",
    "ylag = lp.weights.lag_spatial(wq, y)"
   ]
  },
  {
   "cell_type": "code",
   "execution_count": 10,
   "id": "9c61bd32-fdfb-4d25-807a-f21915be71c0",
   "metadata": {},
   "outputs": [
    {
     "data": {
      "text/plain": [
       "array([0.01908334,        nan, 0.00502353, 0.06712196, 0.06506359,\n",
       "              nan,        nan,        nan, 0.0210184 , 0.0596022 ,\n",
       "       0.07914958,        nan,        nan,        nan,        nan,\n",
       "              nan,        nan,        nan, 0.08719233,        nan,\n",
       "              nan,        nan])"
      ]
     },
     "execution_count": 10,
     "metadata": {},
     "output_type": "execute_result"
    }
   ],
   "source": [
    "ylag"
   ]
  },
  {
   "cell_type": "code",
   "execution_count": 11,
   "id": "6b86ce8a-4b58-4871-81ba-f4ab2b4c78d5",
   "metadata": {},
   "outputs": [],
   "source": [
    "import mapclassify as mc\n",
    "ylagq5 = mc.Quantiles(ylag, k=5)"
   ]
  },
  {
   "cell_type": "code",
   "execution_count": 12,
   "id": "a1111794-9aca-4bc7-8e4d-1fa6ae27994c",
   "metadata": {},
   "outputs": [
    {
     "data": {
      "image/png": "[encoded data removed]",
      "text/plain": [
       "<Figure size 900x900 with 1 Axes>"
      ]
     },
     "metadata": {},
     "output_type": "display_data"
    }
   ],
   "source": [
    "f,ax = plt.subplots(1, figsize=(9, 9), subplot_kw=dict(aspect='equal'))\n",
    "sun_am.assign(cl=ylagq5.yb).plot(column='cl', categorical=True,\n",
    "        k=5, cmap='GnBu', linewidth=0.1,\n",
    "        edgecolor='white', legend=True, ax=ax)\n",
    "ax.set_axis_off()\n",
    "plt.title(\"Spatial Lag PTI (Quintiles)\")\n",
    "\n",
    "plt.show()"
   ]
  },
  {
   "cell_type": "code",
   "execution_count": 36,
   "id": "be324069-1832-4af9-bcbd-3efc924893d7",
   "metadata": {},
   "outputs": [
    {
     "data": {
      "image/png": "[encoded data removed]",
      "text/plain": [
       "<Figure size 864x400 with 2 Axes>"
      ]
     },
     "metadata": {},
     "output_type": "display_data"
    }
   ],
   "source": [
    "sun_am['lag_PTI'] = ylag\n",
    "f,ax = plt.subplots(1,2,figsize=(2.16*4,4), subplot_kw=dict(aspect='equal'))\n",
    "sun_am.plot(column='pti', ax=ax[0], edgecolor='k',\n",
    "        scheme=\"quantiles\",  k=5, cmap='GnBu')\n",
    "ax[0].axis(sun_am.total_bounds[np.asarray([0,2,1,3])])\n",
    "ax[0].set_title(\"PTI\")\n",
    "sun_am.plot(column='lag_PTI', ax=ax[1], edgecolor='k',\n",
    "        scheme='quantiles', cmap='GnBu', k=5)\n",
    "ax[1].axis(wk_am.total_bounds[np.asarray([0,2,1,3])])\n",
    "ax[1].set_title(\"Spatial lag PTI\")\n",
    "ax[0].axis('off')\n",
    "ax[1].axis('off')\n",
    "plt.show()"
   ]
  },
  {
   "cell_type": "code",
   "execution_count": 14,
   "id": "43c52837-7169-4a5a-b474-94de8468840d",
   "metadata": {},
   "outputs": [
    {
     "data": {
      "text/plain": [
       "0.015056942104084559"
      ]
     },
     "execution_count": 14,
     "metadata": {},
     "output_type": "execute_result"
    }
   ],
   "source": [
    "y.median()"
   ]
  },
  {
   "cell_type": "code",
   "execution_count": 15,
   "id": "9b74f1be-8f73-442f-abcd-bac3eebe408a",
   "metadata": {},
   "outputs": [
    {
     "data": {
      "text/plain": [
       "9"
      ]
     },
     "execution_count": 15,
     "metadata": {},
     "output_type": "execute_result"
    }
   ],
   "source": [
    "yb = y > y.median()\n",
    "sum(yb)"
   ]
  },
  {
   "cell_type": "code",
   "execution_count": 16,
   "id": "af037b26-206d-4fdc-8fb2-d3039030c9da",
   "metadata": {},
   "outputs": [],
   "source": [
    "yb = y > y.median()\n",
    "labels = [\"0 Low\", \"1 High\"]\n",
    "yb = [labels[i] for i in 1*yb] \n",
    "sun_am['yb'] = yb"
   ]
  },
  {
   "cell_type": "code",
   "execution_count": 17,
   "id": "aae4158f-164d-4d58-80d3-4063f9d32971",
   "metadata": {},
   "outputs": [
    {
     "data": {
      "text/plain": [
       "<Axes: >"
      ]
     },
     "execution_count": 17,
     "metadata": {},
     "output_type": "execute_result"
    },
    {
     "data": {
      "image/png": "[encoded data removed]",
      "text/plain": [
       "<Figure size 1200x1000 with 1 Axes>"
      ]
     },
     "metadata": {},
     "output_type": "display_data"
    }
   ],
   "source": [
    "fig = plt.figure(figsize=(12,10))\n",
    "ax = plt.gca()\n",
    "sun_am.plot(column='yb', cmap='binary', edgecolor='grey', legend=True, ax=ax)"
   ]
  },
  {
   "cell_type": "code",
   "execution_count": 18,
   "id": "44785863-8dec-44e2-9123-3c2c7ee8aadb",
   "metadata": {},
   "outputs": [],
   "source": [
    "import esda \n",
    "yb = 1 * (y > y.median()) # convert back to binary\n",
    "wq =  lp.weights.Queen.from_dataframe(sun_am)\n",
    "wq.transform = 'b'\n",
    "np.random.seed(12345)\n",
    "jc = esda.join_counts.Join_Counts(yb, wq)"
   ]
  },
  {
   "cell_type": "code",
   "execution_count": 19,
   "id": "98ba7cff-3690-4907-807a-0e4220a55625",
   "metadata": {},
   "outputs": [
    {
     "data": {
      "text/plain": [
       "16.0"
      ]
     },
     "execution_count": 19,
     "metadata": {},
     "output_type": "execute_result"
    }
   ],
   "source": [
    "jc.bb"
   ]
  },
  {
   "cell_type": "code",
   "execution_count": 20,
   "id": "63948445-cf75-4998-a2f6-6fb2914bb36b",
   "metadata": {},
   "outputs": [
    {
     "data": {
      "text/plain": [
       "19.0"
      ]
     },
     "execution_count": 20,
     "metadata": {},
     "output_type": "execute_result"
    }
   ],
   "source": [
    "jc.ww"
   ]
  },
  {
   "cell_type": "code",
   "execution_count": 21,
   "id": "f36b7618-b8a2-4d69-9611-7a1b57f5dc6a",
   "metadata": {},
   "outputs": [
    {
     "data": {
      "text/plain": [
       "28.0"
      ]
     },
     "execution_count": 21,
     "metadata": {},
     "output_type": "execute_result"
    }
   ],
   "source": [
    "jc.bw"
   ]
  },
  {
   "cell_type": "code",
   "execution_count": 22,
   "id": "21f88f46-7a39-4853-b59f-9f1da7c93ec9",
   "metadata": {},
   "outputs": [
    {
     "data": {
      "text/plain": [
       "63.0"
      ]
     },
     "execution_count": 22,
     "metadata": {},
     "output_type": "execute_result"
    }
   ],
   "source": [
    "jc.bb + jc.ww + jc.bw"
   ]
  },
  {
   "cell_type": "code",
   "execution_count": 23,
   "id": "e3b51c02-15de-4a5d-93f5-31dce3473394",
   "metadata": {},
   "outputs": [
    {
     "data": {
      "text/plain": [
       "63.0"
      ]
     },
     "execution_count": 23,
     "metadata": {},
     "output_type": "execute_result"
    }
   ],
   "source": [
    "wq.s0 / 2"
   ]
  },
  {
   "cell_type": "code",
   "execution_count": 24,
   "id": "21956439-1ce4-4967-a6f2-5fcb2eaa5b03",
   "metadata": {},
   "outputs": [
    {
     "data": {
      "text/plain": [
       "16.0"
      ]
     },
     "execution_count": 24,
     "metadata": {},
     "output_type": "execute_result"
    }
   ],
   "source": [
    "jc.bb"
   ]
  },
  {
   "cell_type": "code",
   "execution_count": 25,
   "id": "cdbd20ce-fa78-4e5d-8c36-fede111da6c2",
   "metadata": {},
   "outputs": [
    {
     "data": {
      "text/plain": [
       "9.733733733733734"
      ]
     },
     "execution_count": 25,
     "metadata": {},
     "output_type": "execute_result"
    }
   ],
   "source": [
    "jc.mean_bb"
   ]
  },
  {
   "cell_type": "code",
   "execution_count": 26,
   "id": "c6669266-e8d3-422d-8a85-e53525df87c6",
   "metadata": {},
   "outputs": [
    {
     "data": {
      "text/plain": [
       "Text(0.5, 0, 'BB Counts')"
      ]
     },
     "execution_count": 26,
     "metadata": {},
     "output_type": "execute_result"
    },
    {
     "data": {
      "image/png": "[encoded data removed]",
      "text/plain": [
       "<Figure size 640x480 with 1 Axes>"
      ]
     },
     "metadata": {},
     "output_type": "display_data"
    }
   ],
   "source": [
    "import seaborn as sbn\n",
    "sbn.kdeplot(jc.sim_bb, shade=True)\n",
    "plt.vlines(jc.bb, 0, 1, color='r')\n",
    "plt.vlines(jc.mean_bb, 0,1)\n",
    "plt.xlabel('BB Counts')"
   ]
  },
  {
   "cell_type": "code",
   "execution_count": 27,
   "id": "0c9509fe-b65b-4906-8fd1-de418ca8b93b",
   "metadata": {},
   "outputs": [
    {
     "data": {
      "text/plain": [
       "0.017"
      ]
     },
     "execution_count": 27,
     "metadata": {},
     "output_type": "execute_result"
    }
   ],
   "source": [
    "jc.p_sim_bb"
   ]
  },
  {
   "cell_type": "code",
   "execution_count": 28,
   "id": "a5bcc503-24c9-44a1-ac29-1b50a0fe23c9",
   "metadata": {},
   "outputs": [],
   "source": [
    "wq.transform = 'r'"
   ]
  },
  {
   "cell_type": "code",
   "execution_count": 29,
   "id": "646fb6ac-76a2-463a-b1fa-404ed64782f8",
   "metadata": {},
   "outputs": [],
   "source": [
    "y = sun_am['pti']"
   ]
  },
  {
   "cell_type": "code",
   "execution_count": 30,
   "id": "b6b05d60-01e2-4d63-b69f-aa23d34036b1",
   "metadata": {},
   "outputs": [
    {
     "data": {
      "text/plain": [
       "nan"
      ]
     },
     "execution_count": 30,
     "metadata": {},
     "output_type": "execute_result"
    }
   ],
   "source": [
    "np.random.seed(12345)\n",
    "mi = esda.moran.Moran(y, wq)\n",
    "mi.I"
   ]
  },
  {
   "cell_type": "code",
   "execution_count": 31,
   "id": "b13a1516-ffbb-4c94-8758-6c20f53e8c88",
   "metadata": {},
   "outputs": [
    {
     "data": {
      "text/plain": [
       "Text(0.5, 0, \"Moran's I\")"
      ]
     },
     "execution_count": 31,
     "metadata": {},
     "output_type": "execute_result"
    },
    {
     "data": {
      "image/png": "[encoded data removed]",
      "text/plain": [
       "<Figure size 640x480 with 1 Axes>"
      ]
     },
     "metadata": {},
     "output_type": "display_data"
    }
   ],
   "source": [
    "import seaborn as sbn\n",
    "sbn.kdeplot(mi.sim, shade=True)\n",
    "plt.vlines(mi.I, 0, 1, color='r')\n",
    "plt.vlines(mi.EI, 0,1)\n",
    "plt.xlabel(\"Moran's I\")"
   ]
  },
  {
   "cell_type": "code",
   "execution_count": 32,
   "id": "8e5cd804-0d04-4580-84eb-986353def961",
   "metadata": {},
   "outputs": [
    {
     "data": {
      "text/plain": [
       "0.001"
      ]
     },
     "execution_count": 32,
     "metadata": {},
     "output_type": "execute_result"
    }
   ],
   "source": [
    "mi.p_sim"
   ]
  },
  {
   "cell_type": "code",
   "execution_count": 33,
   "id": "6ae47611-a66d-4d8c-b989-f141003b8c10",
   "metadata": {},
   "outputs": [],
   "source": [
    "np.random.seed(12345)"
   ]
  },
  {
   "cell_type": "code",
   "execution_count": 34,
   "id": "f937ec68-70a4-4fed-b5c2-7e8670046060",
   "metadata": {},
   "outputs": [],
   "source": [
    "wq.transform = 'r'\n",
    "lag_pti = lp.weights.lag_spatial(wq, sun_am['pti'])"
   ]
  },
  {
   "cell_type": "code",
   "execution_count": 35,
   "id": "66b6369d-dfe9-400c-8641-4214b34f393f",
   "metadata": {},
   "outputs": [
    {
     "ename": "LinAlgError",
     "evalue": "SVD did not converge in Linear Least Squares",
     "output_type": "error",
     "traceback": [
      "\u001b[0;31m---------------------------------------------------------------------------\u001b[0m",
      "\u001b[0;31mLinAlgError\u001b[0m                               Traceback (most recent call last)",
      "Cell \u001b[0;32mIn[35], line 2\u001b[0m\n\u001b[1;32m      1\u001b[0m pti \u001b[38;5;241m=\u001b[39m sun_am[\u001b[38;5;124m'\u001b[39m\u001b[38;5;124mpti\u001b[39m\u001b[38;5;124m'\u001b[39m]\n\u001b[0;32m----> 2\u001b[0m b, a \u001b[38;5;241m=\u001b[39m \u001b[43mnp\u001b[49m\u001b[38;5;241;43m.\u001b[39;49m\u001b[43mpolyfit\u001b[49m\u001b[43m(\u001b[49m\u001b[43mpti\u001b[49m\u001b[43m,\u001b[49m\u001b[43m \u001b[49m\u001b[43mlag_pti\u001b[49m\u001b[43m,\u001b[49m\u001b[43m \u001b[49m\u001b[38;5;241;43m1\u001b[39;49m\u001b[43m)\u001b[49m\n\u001b[1;32m      3\u001b[0m f, ax \u001b[38;5;241m=\u001b[39m plt\u001b[38;5;241m.\u001b[39msubplots(\u001b[38;5;241m1\u001b[39m, figsize\u001b[38;5;241m=\u001b[39m(\u001b[38;5;241m9\u001b[39m, \u001b[38;5;241m9\u001b[39m))\n\u001b[1;32m      5\u001b[0m plt\u001b[38;5;241m.\u001b[39mplot(pti, lag_pti, \u001b[38;5;124m'\u001b[39m\u001b[38;5;124m.\u001b[39m\u001b[38;5;124m'\u001b[39m, color\u001b[38;5;241m=\u001b[39m\u001b[38;5;124m'\u001b[39m\u001b[38;5;124mfirebrick\u001b[39m\u001b[38;5;124m'\u001b[39m)\n",
      "File \u001b[0;32m~/anaconda3/envs/pubdis/lib/python3.10/site-packages/numpy/lib/polynomial.py:669\u001b[0m, in \u001b[0;36mpolyfit\u001b[0;34m(x, y, deg, rcond, full, w, cov)\u001b[0m\n\u001b[1;32m    667\u001b[0m scale \u001b[38;5;241m=\u001b[39m NX\u001b[38;5;241m.\u001b[39msqrt((lhs\u001b[38;5;241m*\u001b[39mlhs)\u001b[38;5;241m.\u001b[39msum(axis\u001b[38;5;241m=\u001b[39m\u001b[38;5;241m0\u001b[39m))\n\u001b[1;32m    668\u001b[0m lhs \u001b[38;5;241m/\u001b[39m\u001b[38;5;241m=\u001b[39m scale\n\u001b[0;32m--> 669\u001b[0m c, resids, rank, s \u001b[38;5;241m=\u001b[39m \u001b[43mlstsq\u001b[49m\u001b[43m(\u001b[49m\u001b[43mlhs\u001b[49m\u001b[43m,\u001b[49m\u001b[43m \u001b[49m\u001b[43mrhs\u001b[49m\u001b[43m,\u001b[49m\u001b[43m \u001b[49m\u001b[43mrcond\u001b[49m\u001b[43m)\u001b[49m\n\u001b[1;32m    670\u001b[0m c \u001b[38;5;241m=\u001b[39m (c\u001b[38;5;241m.\u001b[39mT\u001b[38;5;241m/\u001b[39mscale)\u001b[38;5;241m.\u001b[39mT  \u001b[38;5;66;03m# broadcast scale coefficients\u001b[39;00m\n\u001b[1;32m    672\u001b[0m \u001b[38;5;66;03m# warn on rank reduction, which indicates an ill conditioned matrix\u001b[39;00m\n",
      "File \u001b[0;32m~/anaconda3/envs/pubdis/lib/python3.10/site-packages/numpy/linalg/linalg.py:2326\u001b[0m, in \u001b[0;36mlstsq\u001b[0;34m(a, b, rcond)\u001b[0m\n\u001b[1;32m   2323\u001b[0m \u001b[38;5;28;01mif\u001b[39;00m n_rhs \u001b[38;5;241m==\u001b[39m \u001b[38;5;241m0\u001b[39m:\n\u001b[1;32m   2324\u001b[0m     \u001b[38;5;66;03m# lapack can't handle n_rhs = 0 - so allocate the array one larger in that axis\u001b[39;00m\n\u001b[1;32m   2325\u001b[0m     b \u001b[38;5;241m=\u001b[39m zeros(b\u001b[38;5;241m.\u001b[39mshape[:\u001b[38;5;241m-\u001b[39m\u001b[38;5;241m2\u001b[39m] \u001b[38;5;241m+\u001b[39m (m, n_rhs \u001b[38;5;241m+\u001b[39m \u001b[38;5;241m1\u001b[39m), dtype\u001b[38;5;241m=\u001b[39mb\u001b[38;5;241m.\u001b[39mdtype)\n\u001b[0;32m-> 2326\u001b[0m x, resids, rank, s \u001b[38;5;241m=\u001b[39m \u001b[43mgufunc\u001b[49m\u001b[43m(\u001b[49m\u001b[43ma\u001b[49m\u001b[43m,\u001b[49m\u001b[43m \u001b[49m\u001b[43mb\u001b[49m\u001b[43m,\u001b[49m\u001b[43m \u001b[49m\u001b[43mrcond\u001b[49m\u001b[43m,\u001b[49m\u001b[43m \u001b[49m\u001b[43msignature\u001b[49m\u001b[38;5;241;43m=\u001b[39;49m\u001b[43msignature\u001b[49m\u001b[43m,\u001b[49m\u001b[43m \u001b[49m\u001b[43mextobj\u001b[49m\u001b[38;5;241;43m=\u001b[39;49m\u001b[43mextobj\u001b[49m\u001b[43m)\u001b[49m\n\u001b[1;32m   2327\u001b[0m \u001b[38;5;28;01mif\u001b[39;00m m \u001b[38;5;241m==\u001b[39m \u001b[38;5;241m0\u001b[39m:\n\u001b[1;32m   2328\u001b[0m     x[\u001b[38;5;241m.\u001b[39m\u001b[38;5;241m.\u001b[39m\u001b[38;5;241m.\u001b[39m] \u001b[38;5;241m=\u001b[39m \u001b[38;5;241m0\u001b[39m\n",
      "File \u001b[0;32m~/anaconda3/envs/pubdis/lib/python3.10/site-packages/numpy/linalg/linalg.py:124\u001b[0m, in \u001b[0;36m_raise_linalgerror_lstsq\u001b[0;34m(err, flag)\u001b[0m\n\u001b[1;32m    123\u001b[0m \u001b[38;5;28;01mdef\u001b[39;00m \u001b[38;5;21m_raise_linalgerror_lstsq\u001b[39m(err, flag):\n\u001b[0;32m--> 124\u001b[0m     \u001b[38;5;28;01mraise\u001b[39;00m LinAlgError(\u001b[38;5;124m\"\u001b[39m\u001b[38;5;124mSVD did not converge in Linear Least Squares\u001b[39m\u001b[38;5;124m\"\u001b[39m)\n",
      "\u001b[0;31mLinAlgError\u001b[0m: SVD did not converge in Linear Least Squares"
     ]
    }
   ],
   "source": [
    "pti = sun_am['pti']\n",
    "b, a = np.polyfit(pti, lag_pti, 1)\n",
    "f, ax = plt.subplots(1, figsize=(9, 9))\n",
    "\n",
    "plt.plot(pti, lag_pti, '.', color='firebrick')\n",
    "\n",
    " # dashed vert at mean of the price\n",
    "plt.vlines(pti.mean(), lag_pti.min(), lag_pti.max(), linestyle='--')\n",
    " # dashed horizontal at mean of lagged price \n",
    "plt.hlines(lag_pti.mean(), pti.min(), pti.max(), linestyle='--')\n",
    "\n",
    "# red line of best fit using global I as slope\n",
    "plt.plot(pti, a + b*pti, 'r')\n",
    "plt.title('Moran Scatterplot')\n",
    "plt.ylabel('Spatial Lag of PTI')\n",
    "plt.xlabel('PTI')\n",
    "plt.show()"
   ]
  },
  {
   "cell_type": "code",
   "execution_count": null,
   "id": "b6e97a64-b10d-425a-8603-1f1c58ce1ef7",
   "metadata": {},
   "outputs": [],
   "source": []
  }
 ],
 "metadata": {
  "kernelspec": {
   "display_name": "Python 3 (ipykernel)",
   "language": "python",
   "name": "python3"
  },
  "language_info": {
   "codemirror_mode": {
    "name": "ipython",
    "version": 3
   },
   "file_extension": ".py",
   "mimetype": "text/x-python",
   "name": "python",
   "nbconvert_exporter": "python",
   "pygments_lexer": "ipython3",
   "version": "3.10.12"
  }
 },
 "nbformat": 4,
 "nbformat_minor": 5
}
